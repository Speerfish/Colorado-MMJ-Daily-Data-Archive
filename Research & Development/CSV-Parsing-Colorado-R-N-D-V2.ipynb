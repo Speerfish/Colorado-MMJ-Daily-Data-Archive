{
  "cells": [
    {
      "cell_type": "markdown",
      "id": "e40f3f1c",
      "metadata": {},
      "source": [
        "# Jupyter Notebook: Parsing CSV file and Visualizing Data"
      ]
    },
    {
      "cell_type": "markdown",
      "id": "b92958ba",
      "metadata": {},
      "source": [
        "In this notebook, we will load a CSV file, convert it to a pandas DataFrame, and then create a map visualizations using folium."
      ]
    },
    {
      "cell_type": "code",
      "execution_count": 1,
      "id": "2736d75a-a1d3-4ce2-91be-dbf65d07bd2e",
      "metadata": {
        "trusted": true
      },
      "outputs": [
        {
          "name": "stdout",
          "output_type": "stream",
          "text": [
            "Requirement already satisfied: pandas in /Library/Frameworks/Python.framework/Versions/3.11/lib/python3.11/site-packages (2.2.3)\n",
            "Requirement already satisfied: folium in /Library/Frameworks/Python.framework/Versions/3.11/lib/python3.11/site-packages (0.17.0)\n",
            "Requirement already satisfied: numpy>=1.23.2 in /Library/Frameworks/Python.framework/Versions/3.11/lib/python3.11/site-packages (from pandas) (2.1.1)\n",
            "Requirement already satisfied: python-dateutil>=2.8.2 in /Users/ceraven/Library/Python/3.11/lib/python/site-packages (from pandas) (2.9.0.post0)\n",
            "Requirement already satisfied: pytz>=2020.1 in /Library/Frameworks/Python.framework/Versions/3.11/lib/python3.11/site-packages (from pandas) (2024.2)\n",
            "Requirement already satisfied: tzdata>=2022.7 in /Library/Frameworks/Python.framework/Versions/3.11/lib/python3.11/site-packages (from pandas) (2024.2)\n",
            "Requirement already satisfied: branca>=0.6.0 in /Library/Frameworks/Python.framework/Versions/3.11/lib/python3.11/site-packages (from folium) (0.8.0)\n",
            "Requirement already satisfied: jinja2>=2.9 in /Library/Frameworks/Python.framework/Versions/3.11/lib/python3.11/site-packages (from folium) (3.1.4)\n",
            "Requirement already satisfied: requests in /Library/Frameworks/Python.framework/Versions/3.11/lib/python3.11/site-packages (from folium) (2.32.3)\n",
            "Requirement already satisfied: xyzservices in /Library/Frameworks/Python.framework/Versions/3.11/lib/python3.11/site-packages (from folium) (2024.9.0)\n",
            "Requirement already satisfied: MarkupSafe>=2.0 in /Library/Frameworks/Python.framework/Versions/3.11/lib/python3.11/site-packages (from jinja2>=2.9->folium) (2.1.5)\n",
            "Requirement already satisfied: six>=1.5 in /Users/ceraven/Library/Python/3.11/lib/python/site-packages (from python-dateutil>=2.8.2->pandas) (1.16.0)\n",
            "Requirement already satisfied: charset-normalizer<4,>=2 in /Library/Frameworks/Python.framework/Versions/3.11/lib/python3.11/site-packages (from requests->folium) (3.3.2)\n",
            "Requirement already satisfied: idna<4,>=2.5 in /Library/Frameworks/Python.framework/Versions/3.11/lib/python3.11/site-packages (from requests->folium) (3.10)\n",
            "Requirement already satisfied: urllib3<3,>=1.21.1 in /Library/Frameworks/Python.framework/Versions/3.11/lib/python3.11/site-packages (from requests->folium) (2.2.3)\n",
            "Requirement already satisfied: certifi>=2017.4.17 in /Library/Frameworks/Python.framework/Versions/3.11/lib/python3.11/site-packages (from requests->folium) (2024.8.30)\n",
            "\n",
            "\u001b[1m[\u001b[0m\u001b[34;49mnotice\u001b[0m\u001b[1;39;49m]\u001b[0m\u001b[39;49m A new release of pip available: \u001b[0m\u001b[31;49m22.3.1\u001b[0m\u001b[39;49m -> \u001b[0m\u001b[32;49m24.2\u001b[0m\n",
            "\u001b[1m[\u001b[0m\u001b[34;49mnotice\u001b[0m\u001b[1;39;49m]\u001b[0m\u001b[39;49m To update, run: \u001b[0m\u001b[32;49mpip3 install --upgrade pip\u001b[0m\n",
            "Note: you may need to restart the kernel to use updated packages.\n"
          ]
        }
      ],
      "source": [
        "pip install pandas folium"
      ]
    },
    {
      "cell_type": "code",
      "execution_count": 2,
      "id": "531a9327",
      "metadata": {
        "trusted": true
      },
      "outputs": [],
      "source": [
        "# Import necessary libraries\n",
        "import pandas as pd\n",
        "import folium"
      ]
    },
    {
      "cell_type": "markdown",
      "id": "a0464c5b",
      "metadata": {},
      "source": [
        "## Step 1: Load CSV File"
      ]
    },
    {
      "cell_type": "code",
      "execution_count": 4,
      "id": "d759d7f8",
      "metadata": {
        "trusted": true
      },
      "outputs": [
        {
          "data": {
            "text/html": [
              "<div>\n",
              "<style scoped>\n",
              "    .dataframe tbody tr th:only-of-type {\n",
              "        vertical-align: middle;\n",
              "    }\n",
              "\n",
              "    .dataframe tbody tr th {\n",
              "        vertical-align: top;\n",
              "    }\n",
              "\n",
              "    .dataframe thead th {\n",
              "        text-align: right;\n",
              "    }\n",
              "</style>\n",
              "<table border=\"1\" class=\"dataframe\">\n",
              "  <thead>\n",
              "    <tr style=\"text-align: right;\">\n",
              "      <th></th>\n",
              "      <th>License Number</th>\n",
              "      <th>Facility Name</th>\n",
              "      <th>DBA</th>\n",
              "      <th>Facility Type</th>\n",
              "      <th>Street</th>\n",
              "      <th>City</th>\n",
              "      <th>State</th>\n",
              "      <th>Zip Code</th>\n",
              "      <th>Date Updated</th>\n",
              "      <th>Latitude</th>\n",
              "      <th>Longitude</th>\n",
              "    </tr>\n",
              "  </thead>\n",
              "  <tbody>\n",
              "    <tr>\n",
              "      <th>0</th>\n",
              "      <td>408C-00001</td>\n",
              "      <td>MEDPHARM HOLDINGS LLC</td>\n",
              "      <td>Bud &amp; Mary's Cannabis</td>\n",
              "      <td>MMJ R&amp;D Cultivation</td>\n",
              "      <td>3855 North Quentin Street</td>\n",
              "      <td>Denver</td>\n",
              "      <td>80239</td>\n",
              "      <td>CO</td>\n",
              "      <td>2024-09-03</td>\n",
              "      <td>39.76989</td>\n",
              "      <td>-104.84483</td>\n",
              "    </tr>\n",
              "  </tbody>\n",
              "</table>\n",
              "</div>"
            ],
            "text/plain": [
              "  License Number          Facility Name                    DBA  \\\n",
              "0     408C-00001  MEDPHARM HOLDINGS LLC  Bud & Mary's Cannabis   \n",
              "\n",
              "         Facility Type                     Street    City  State Zip Code  \\\n",
              "0  MMJ R&D Cultivation  3855 North Quentin Street  Denver  80239       CO   \n",
              "\n",
              "  Date Updated  Latitude  Longitude  \n",
              "0   2024-09-03  39.76989 -104.84483  "
            ]
          },
          "execution_count": 4,
          "metadata": {},
          "output_type": "execute_result"
        }
      ],
      "source": [
        "# Load the CSV file into a DataFrame\n",
        "file_path = \"colorado_research_n_development_cultivations_full_list.csv\"\n",
        "\n",
        "df = pd.read_csv(file_path)\n",
        "\n",
        "# Optional: Display the first few rows to check if the file is loaded correctly\n",
        "df.head(15)"
      ]
    },
    {
      "cell_type": "markdown",
      "id": "c1f7a195-ec9c-4c8e-a301-5b59297f0fc0",
      "metadata": {},
      "source": [
        "## Step 2: Clean and Prepare the Data"
      ]
    },
    {
      "cell_type": "code",
      "execution_count": 5,
      "id": "6580f7f3-b45e-4d88-9aa7-923ed94a0d2f",
      "metadata": {
        "trusted": true
      },
      "outputs": [
        {
          "name": "stdout",
          "output_type": "stream",
          "text": [
            "<class 'pandas.core.frame.DataFrame'>\n",
            "RangeIndex: 1 entries, 0 to 0\n",
            "Data columns (total 11 columns):\n",
            " #   Column          Non-Null Count  Dtype  \n",
            "---  ------          --------------  -----  \n",
            " 0   License Number  1 non-null      object \n",
            " 1   Facility Name   1 non-null      object \n",
            " 2   DBA             1 non-null      object \n",
            " 3   Facility Type   1 non-null      object \n",
            " 4   Street          1 non-null      object \n",
            " 5   City            1 non-null      object \n",
            " 6   State           1 non-null      int64  \n",
            " 7   Zip Code        1 non-null      object \n",
            " 8   Date Updated    1 non-null      object \n",
            " 9   Latitude        1 non-null      float64\n",
            " 10  Longitude       1 non-null      float64\n",
            "dtypes: float64(2), int64(1), object(8)\n",
            "memory usage: 220.0+ bytes\n"
          ]
        },
        {
          "data": {
            "text/html": [
              "<div>\n",
              "<style scoped>\n",
              "    .dataframe tbody tr th:only-of-type {\n",
              "        vertical-align: middle;\n",
              "    }\n",
              "\n",
              "    .dataframe tbody tr th {\n",
              "        vertical-align: top;\n",
              "    }\n",
              "\n",
              "    .dataframe thead th {\n",
              "        text-align: right;\n",
              "    }\n",
              "</style>\n",
              "<table border=\"1\" class=\"dataframe\">\n",
              "  <thead>\n",
              "    <tr style=\"text-align: right;\">\n",
              "      <th></th>\n",
              "      <th>License Number</th>\n",
              "      <th>Facility Name</th>\n",
              "      <th>DBA</th>\n",
              "      <th>Facility Type</th>\n",
              "      <th>Street</th>\n",
              "      <th>City</th>\n",
              "      <th>State</th>\n",
              "      <th>Zip Code</th>\n",
              "      <th>Date Updated</th>\n",
              "      <th>Latitude</th>\n",
              "      <th>Longitude</th>\n",
              "    </tr>\n",
              "  </thead>\n",
              "  <tbody>\n",
              "    <tr>\n",
              "      <th>0</th>\n",
              "      <td>408C-00001</td>\n",
              "      <td>MEDPHARM HOLDINGS LLC</td>\n",
              "      <td>Bud &amp; Mary's Cannabis</td>\n",
              "      <td>MMJ R&amp;D Cultivation</td>\n",
              "      <td>3855 North Quentin Street</td>\n",
              "      <td>Denver</td>\n",
              "      <td>80239</td>\n",
              "      <td>CO</td>\n",
              "      <td>2024-09-03</td>\n",
              "      <td>39.76989</td>\n",
              "      <td>-104.84483</td>\n",
              "    </tr>\n",
              "  </tbody>\n",
              "</table>\n",
              "</div>"
            ],
            "text/plain": [
              "  License Number          Facility Name                    DBA  \\\n",
              "0     408C-00001  MEDPHARM HOLDINGS LLC  Bud & Mary's Cannabis   \n",
              "\n",
              "         Facility Type                     Street    City  State Zip Code  \\\n",
              "0  MMJ R&D Cultivation  3855 North Quentin Street  Denver  80239       CO   \n",
              "\n",
              "  Date Updated  Latitude  Longitude  \n",
              "0   2024-09-03  39.76989 -104.84483  "
            ]
          },
          "execution_count": 5,
          "metadata": {},
          "output_type": "execute_result"
        }
      ],
      "source": [
        "# Check column names and data types\n",
        "df.info()\n",
        "\n",
        "# Clean any missing latitude or longitude data\n",
        "df.dropna(subset=['Longitude', 'Latitude'], inplace=True)\n",
        "\n",
        "# Optional: Check for missing values in other important columns\n",
        "df.isnull().sum()\n",
        "\n",
        "# Optional: Display the first few rows of cleaned data\n",
        "df.head(15)"
      ]
    },
    {
      "cell_type": "markdown",
      "id": "c6d97be6",
      "metadata": {},
      "source": [
        "## Step 3: Create a Searchable Map"
      ]
    },
    {
      "cell_type": "code",
      "execution_count": 6,
      "id": "d4d0806e-43f5-466b-aeea-e1e0e0f5d8d3",
      "metadata": {
        "trusted": true
      },
      "outputs": [
        {
          "data": {
            "text/html": [
              "<div style=\"width:100%;\"><div style=\"position:relative;width:100%;height:0;padding-bottom:60%;\"><span style=\"color:#565656\">Make this Notebook Trusted to load map: File -> Trust Notebook</span><iframe srcdoc=\"&lt;!DOCTYPE html&gt;\n",
              "&lt;html&gt;\n",
              "&lt;head&gt;\n",
              "    \n",
              "    &lt;meta http-equiv=&quot;content-type&quot; content=&quot;text/html; charset=UTF-8&quot; /&gt;\n",
              "    \n",
              "        &lt;script&gt;\n",
              "            L_NO_TOUCH = false;\n",
              "            L_DISABLE_3D = false;\n",
              "        &lt;/script&gt;\n",
              "    \n",
              "    &lt;style&gt;html, body {width: 100%;height: 100%;margin: 0;padding: 0;}&lt;/style&gt;\n",
              "    &lt;style&gt;#map {position:absolute;top:0;bottom:0;right:0;left:0;}&lt;/style&gt;\n",
              "    &lt;script src=&quot;https://cdn.jsdelivr.net/npm/leaflet@1.9.3/dist/leaflet.js&quot;&gt;&lt;/script&gt;\n",
              "    &lt;script src=&quot;https://code.jquery.com/jquery-3.7.1.min.js&quot;&gt;&lt;/script&gt;\n",
              "    &lt;script src=&quot;https://cdn.jsdelivr.net/npm/bootstrap@5.2.2/dist/js/bootstrap.bundle.min.js&quot;&gt;&lt;/script&gt;\n",
              "    &lt;script src=&quot;https://cdnjs.cloudflare.com/ajax/libs/Leaflet.awesome-markers/2.0.2/leaflet.awesome-markers.js&quot;&gt;&lt;/script&gt;\n",
              "    &lt;link rel=&quot;stylesheet&quot; href=&quot;https://cdn.jsdelivr.net/npm/leaflet@1.9.3/dist/leaflet.css&quot;/&gt;\n",
              "    &lt;link rel=&quot;stylesheet&quot; href=&quot;https://cdn.jsdelivr.net/npm/bootstrap@5.2.2/dist/css/bootstrap.min.css&quot;/&gt;\n",
              "    &lt;link rel=&quot;stylesheet&quot; href=&quot;https://netdna.bootstrapcdn.com/bootstrap/3.0.0/css/bootstrap-glyphicons.css&quot;/&gt;\n",
              "    &lt;link rel=&quot;stylesheet&quot; href=&quot;https://cdn.jsdelivr.net/npm/@fortawesome/fontawesome-free@6.2.0/css/all.min.css&quot;/&gt;\n",
              "    &lt;link rel=&quot;stylesheet&quot; href=&quot;https://cdnjs.cloudflare.com/ajax/libs/Leaflet.awesome-markers/2.0.2/leaflet.awesome-markers.css&quot;/&gt;\n",
              "    &lt;link rel=&quot;stylesheet&quot; href=&quot;https://cdn.jsdelivr.net/gh/python-visualization/folium/folium/templates/leaflet.awesome.rotate.min.css&quot;/&gt;\n",
              "    \n",
              "            &lt;meta name=&quot;viewport&quot; content=&quot;width=device-width,\n",
              "                initial-scale=1.0, maximum-scale=1.0, user-scalable=no&quot; /&gt;\n",
              "            &lt;style&gt;\n",
              "                #map_f31a6e6657f8655f5a624fcb76a23bc0 {\n",
              "                    position: relative;\n",
              "                    width: 100.0%;\n",
              "                    height: 100.0%;\n",
              "                    left: 0.0%;\n",
              "                    top: 0.0%;\n",
              "                }\n",
              "                .leaflet-container { font-size: 1rem; }\n",
              "            &lt;/style&gt;\n",
              "        \n",
              "&lt;/head&gt;\n",
              "&lt;body&gt;\n",
              "    \n",
              "    \n",
              "            &lt;div class=&quot;folium-map&quot; id=&quot;map_f31a6e6657f8655f5a624fcb76a23bc0&quot; &gt;&lt;/div&gt;\n",
              "        \n",
              "&lt;/body&gt;\n",
              "&lt;script&gt;\n",
              "    \n",
              "    \n",
              "            var map_f31a6e6657f8655f5a624fcb76a23bc0 = L.map(\n",
              "                &quot;map_f31a6e6657f8655f5a624fcb76a23bc0&quot;,\n",
              "                {\n",
              "                    center: [39.5501, -105.7821],\n",
              "                    crs: L.CRS.EPSG3857,\n",
              "                    zoom: 7,\n",
              "                    zoomControl: true,\n",
              "                    preferCanvas: false,\n",
              "                }\n",
              "            );\n",
              "\n",
              "            \n",
              "\n",
              "        \n",
              "    \n",
              "            var tile_layer_cb6fc156d6d705eb40c02f1a83b13978 = L.tileLayer(\n",
              "                &quot;https://tile.openstreetmap.org/{z}/{x}/{y}.png&quot;,\n",
              "                {&quot;attribution&quot;: &quot;\\u0026copy; \\u003ca href=\\&quot;https://www.openstreetmap.org/copyright\\&quot;\\u003eOpenStreetMap\\u003c/a\\u003e contributors&quot;, &quot;detectRetina&quot;: false, &quot;maxNativeZoom&quot;: 19, &quot;maxZoom&quot;: 19, &quot;minZoom&quot;: 0, &quot;noWrap&quot;: false, &quot;opacity&quot;: 1, &quot;subdomains&quot;: &quot;abc&quot;, &quot;tms&quot;: false}\n",
              "            );\n",
              "        \n",
              "    \n",
              "            tile_layer_cb6fc156d6d705eb40c02f1a83b13978.addTo(map_f31a6e6657f8655f5a624fcb76a23bc0);\n",
              "        \n",
              "    \n",
              "            var marker_04d0d46a64657765a6576225b9c849bf = L.marker(\n",
              "                [39.76989, -104.84483],\n",
              "                {}\n",
              "            ).addTo(map_f31a6e6657f8655f5a624fcb76a23bc0);\n",
              "        \n",
              "    \n",
              "            var icon_7544c64186c1fe52036694e2edacc4f5 = L.AwesomeMarkers.icon(\n",
              "                {&quot;extraClasses&quot;: &quot;fa-rotate-0&quot;, &quot;icon&quot;: &quot;cloud&quot;, &quot;iconColor&quot;: &quot;white&quot;, &quot;markerColor&quot;: &quot;green&quot;, &quot;prefix&quot;: &quot;glyphicon&quot;}\n",
              "            );\n",
              "            marker_04d0d46a64657765a6576225b9c849bf.setIcon(icon_7544c64186c1fe52036694e2edacc4f5);\n",
              "        \n",
              "    \n",
              "        var popup_f3417f98ce28bfa8091a77cb6c43ce5a = L.popup({&quot;maxWidth&quot;: &quot;100%&quot;});\n",
              "\n",
              "        \n",
              "            \n",
              "                var html_0abb7641d93c0d4a8f62c93049dc0402 = $(`&lt;div id=&quot;html_0abb7641d93c0d4a8f62c93049dc0402&quot; style=&quot;width: 100.0%; height: 100.0%;&quot;&gt;     &lt;strong&gt;MEDPHARM HOLDINGS LLC&lt;/strong&gt;&lt;br&gt;     &lt;strong&gt;Bud &amp; Mary&#x27;s Cannabis&lt;/strong&gt;&lt;br&gt;     Facility Type: MMJ R&amp;D Cultivation&lt;br&gt;     3855 North Quentin Street&lt;br&gt;     Denver, 80239 CO     &lt;/div&gt;`)[0];\n",
              "                popup_f3417f98ce28bfa8091a77cb6c43ce5a.setContent(html_0abb7641d93c0d4a8f62c93049dc0402);\n",
              "            \n",
              "        \n",
              "\n",
              "        marker_04d0d46a64657765a6576225b9c849bf.bindPopup(popup_f3417f98ce28bfa8091a77cb6c43ce5a)\n",
              "        ;\n",
              "\n",
              "        \n",
              "    \n",
              "    \n",
              "            tile_layer_cb6fc156d6d705eb40c02f1a83b13978.addTo(map_f31a6e6657f8655f5a624fcb76a23bc0);\n",
              "        \n",
              "&lt;/script&gt;\n",
              "&lt;/html&gt;\" style=\"position:absolute;width:100%;height:100%;left:0;top:0;border:none !important;\" allowfullscreen webkitallowfullscreen mozallowfullscreen></iframe></div></div>"
            ],
            "text/plain": [
              "<folium.folium.Map at 0x118c0ca90>"
            ]
          },
          "execution_count": 6,
          "metadata": {},
          "output_type": "execute_result"
        }
      ],
      "source": [
        "# Initialize the map centered around Colorado\n",
        "m = folium.Map(location=[39.5501, -105.7821], zoom_start=7)\n",
        "\n",
        "# Add markers to the map for each food pantry\n",
        "for idx, row in df.iterrows():\n",
        "    popup_text = f\"\"\"\n",
        "    <strong>{row['Facility Name']}</strong><br>\n",
        "    <strong>{row['DBA']}</strong><br>\n",
        "    Facility Type: {row['Facility Type']}<br>\n",
        "    {row['Street']}<br>\n",
        "    {row['City']}, {row['State']} {row['Zip Code']}\n",
        "    \"\"\"\n",
        "    folium.Marker(\n",
        "        location=[row['Latitude'], row['Longitude']],\n",
        "        popup=popup_text, icon=folium.Icon(icon=\"cloud\",color=\"green\")\n",
        "    ).add_to(m)\n",
        "\n",
        "# Save the map as an HTML file\n",
        "m.save(\"colorado_research_n_development_cultivations_full_list_map.html\")\n",
        "\n",
        "# Display the map in the notebook\n",
        "m"
      ]
    },
    {
      "cell_type": "markdown",
      "id": "c630b942-9a80-4221-b194-b3304cb52ee7",
      "metadata": {},
      "source": [
        "## Step 4: Implement Search Functionality"
      ]
    },
    {
      "cell_type": "code",
      "execution_count": 7,
      "id": "6a515d32",
      "metadata": {
        "trusted": true
      },
      "outputs": [
        {
          "data": {
            "text/html": [
              "<div style=\"width:100%;\"><div style=\"position:relative;width:100%;height:0;padding-bottom:60%;\"><span style=\"color:#565656\">Make this Notebook Trusted to load map: File -> Trust Notebook</span><iframe srcdoc=\"&lt;!DOCTYPE html&gt;\n",
              "&lt;html&gt;\n",
              "&lt;head&gt;\n",
              "    \n",
              "    &lt;meta http-equiv=&quot;content-type&quot; content=&quot;text/html; charset=UTF-8&quot; /&gt;\n",
              "    \n",
              "        &lt;script&gt;\n",
              "            L_NO_TOUCH = false;\n",
              "            L_DISABLE_3D = false;\n",
              "        &lt;/script&gt;\n",
              "    \n",
              "    &lt;style&gt;html, body {width: 100%;height: 100%;margin: 0;padding: 0;}&lt;/style&gt;\n",
              "    &lt;style&gt;#map {position:absolute;top:0;bottom:0;right:0;left:0;}&lt;/style&gt;\n",
              "    &lt;script src=&quot;https://cdn.jsdelivr.net/npm/leaflet@1.9.3/dist/leaflet.js&quot;&gt;&lt;/script&gt;\n",
              "    &lt;script src=&quot;https://code.jquery.com/jquery-3.7.1.min.js&quot;&gt;&lt;/script&gt;\n",
              "    &lt;script src=&quot;https://cdn.jsdelivr.net/npm/bootstrap@5.2.2/dist/js/bootstrap.bundle.min.js&quot;&gt;&lt;/script&gt;\n",
              "    &lt;script src=&quot;https://cdnjs.cloudflare.com/ajax/libs/Leaflet.awesome-markers/2.0.2/leaflet.awesome-markers.js&quot;&gt;&lt;/script&gt;\n",
              "    &lt;link rel=&quot;stylesheet&quot; href=&quot;https://cdn.jsdelivr.net/npm/leaflet@1.9.3/dist/leaflet.css&quot;/&gt;\n",
              "    &lt;link rel=&quot;stylesheet&quot; href=&quot;https://cdn.jsdelivr.net/npm/bootstrap@5.2.2/dist/css/bootstrap.min.css&quot;/&gt;\n",
              "    &lt;link rel=&quot;stylesheet&quot; href=&quot;https://netdna.bootstrapcdn.com/bootstrap/3.0.0/css/bootstrap-glyphicons.css&quot;/&gt;\n",
              "    &lt;link rel=&quot;stylesheet&quot; href=&quot;https://cdn.jsdelivr.net/npm/@fortawesome/fontawesome-free@6.2.0/css/all.min.css&quot;/&gt;\n",
              "    &lt;link rel=&quot;stylesheet&quot; href=&quot;https://cdnjs.cloudflare.com/ajax/libs/Leaflet.awesome-markers/2.0.2/leaflet.awesome-markers.css&quot;/&gt;\n",
              "    &lt;link rel=&quot;stylesheet&quot; href=&quot;https://cdn.jsdelivr.net/gh/python-visualization/folium/folium/templates/leaflet.awesome.rotate.min.css&quot;/&gt;\n",
              "    \n",
              "            &lt;meta name=&quot;viewport&quot; content=&quot;width=device-width,\n",
              "                initial-scale=1.0, maximum-scale=1.0, user-scalable=no&quot; /&gt;\n",
              "            &lt;style&gt;\n",
              "                #map_0d325df9ba6d1421c3a4398ef4998e1a {\n",
              "                    position: relative;\n",
              "                    width: 100.0%;\n",
              "                    height: 100.0%;\n",
              "                    left: 0.0%;\n",
              "                    top: 0.0%;\n",
              "                }\n",
              "                .leaflet-container { font-size: 1rem; }\n",
              "            &lt;/style&gt;\n",
              "        \n",
              "&lt;/head&gt;\n",
              "&lt;body&gt;\n",
              "    \n",
              "    \n",
              "            &lt;div class=&quot;folium-map&quot; id=&quot;map_0d325df9ba6d1421c3a4398ef4998e1a&quot; &gt;&lt;/div&gt;\n",
              "        \n",
              "&lt;/body&gt;\n",
              "&lt;script&gt;\n",
              "    \n",
              "    \n",
              "            var map_0d325df9ba6d1421c3a4398ef4998e1a = L.map(\n",
              "                &quot;map_0d325df9ba6d1421c3a4398ef4998e1a&quot;,\n",
              "                {\n",
              "                    center: [39.5501, -105.7821],\n",
              "                    crs: L.CRS.EPSG3857,\n",
              "                    zoom: 7,\n",
              "                    zoomControl: true,\n",
              "                    preferCanvas: false,\n",
              "                }\n",
              "            );\n",
              "\n",
              "            \n",
              "\n",
              "        \n",
              "    \n",
              "            var tile_layer_c08cde9ed8ef5e99b776368eda35f5d6 = L.tileLayer(\n",
              "                &quot;https://tile.openstreetmap.org/{z}/{x}/{y}.png&quot;,\n",
              "                {&quot;attribution&quot;: &quot;\\u0026copy; \\u003ca href=\\&quot;https://www.openstreetmap.org/copyright\\&quot;\\u003eOpenStreetMap\\u003c/a\\u003e contributors&quot;, &quot;detectRetina&quot;: false, &quot;maxNativeZoom&quot;: 19, &quot;maxZoom&quot;: 19, &quot;minZoom&quot;: 0, &quot;noWrap&quot;: false, &quot;opacity&quot;: 1, &quot;subdomains&quot;: &quot;abc&quot;, &quot;tms&quot;: false}\n",
              "            );\n",
              "        \n",
              "    \n",
              "            tile_layer_c08cde9ed8ef5e99b776368eda35f5d6.addTo(map_0d325df9ba6d1421c3a4398ef4998e1a);\n",
              "        \n",
              "    \n",
              "            var marker_709625ddd9bf0c2c19ddf7bacd38f507 = L.marker(\n",
              "                [39.76989, -104.84483],\n",
              "                {}\n",
              "            ).addTo(map_0d325df9ba6d1421c3a4398ef4998e1a);\n",
              "        \n",
              "    \n",
              "            var icon_4e5d13a6b10ce3e916f20850bf66df17 = L.AwesomeMarkers.icon(\n",
              "                {&quot;extraClasses&quot;: &quot;fa-rotate-0&quot;, &quot;icon&quot;: &quot;cloud&quot;, &quot;iconColor&quot;: &quot;white&quot;, &quot;markerColor&quot;: &quot;green&quot;, &quot;prefix&quot;: &quot;glyphicon&quot;}\n",
              "            );\n",
              "            marker_709625ddd9bf0c2c19ddf7bacd38f507.setIcon(icon_4e5d13a6b10ce3e916f20850bf66df17);\n",
              "        \n",
              "    \n",
              "        var popup_e23c9e82ab20f11483f955cd8c9fe267 = L.popup({&quot;maxWidth&quot;: &quot;100%&quot;});\n",
              "\n",
              "        \n",
              "            \n",
              "                var html_b75a8209af44d807d3985b69f828abd6 = $(`&lt;div id=&quot;html_b75a8209af44d807d3985b69f828abd6&quot; style=&quot;width: 100.0%; height: 100.0%;&quot;&gt;     &lt;strong&gt;MEDPHARM HOLDINGS LLC&lt;/strong&gt;&lt;br&gt;     &lt;strong&gt;Bud &amp; Mary&#x27;s Cannabis&lt;/strong&gt;&lt;br&gt;     Facility Type: MMJ R&amp;D Cultivation&lt;br&gt;     3855 North Quentin Street&lt;br&gt;     Denver, 80239 CO     &lt;/div&gt;`)[0];\n",
              "                popup_e23c9e82ab20f11483f955cd8c9fe267.setContent(html_b75a8209af44d807d3985b69f828abd6);\n",
              "            \n",
              "        \n",
              "\n",
              "        marker_709625ddd9bf0c2c19ddf7bacd38f507.bindPopup(popup_e23c9e82ab20f11483f955cd8c9fe267)\n",
              "        ;\n",
              "\n",
              "        \n",
              "    \n",
              "    \n",
              "            tile_layer_c08cde9ed8ef5e99b776368eda35f5d6.addTo(map_0d325df9ba6d1421c3a4398ef4998e1a);\n",
              "        \n",
              "&lt;/script&gt;\n",
              "&lt;/html&gt;\" style=\"position:absolute;width:100%;height:100%;left:0;top:0;border:none !important;\" allowfullscreen webkitallowfullscreen mozallowfullscreen></iframe></div></div>"
            ],
            "text/plain": [
              "<folium.folium.Map at 0x119a61150>"
            ]
          },
          "execution_count": 7,
          "metadata": {},
          "output_type": "execute_result"
        }
      ],
      "source": [
        "# Example: Search for research and development cultivations in a specific city\n",
        "city_search = \"Denver\"  # Replace with user input\n",
        "\n",
        "# Filter the DataFrame based on the city\n",
        "filtered_df = df[df['City'].str.contains(city_search, case=False, na=False)]\n",
        "\n",
        "# Create a map for the filtered results\n",
        "m_filtered = folium.Map(location=[39.5501, -105.7821], zoom_start=7)\n",
        "\n",
        "for idx, row in filtered_df.iterrows():\n",
        "    popup_text = f\"\"\"\n",
        "    <strong>{row['Facility Name']}</strong><br>\n",
        "    <strong>{row['DBA']}</strong><br>\n",
        "    Facility Type: {row['Facility Type']}<br>\n",
        "    {row['Street']}<br>\n",
        "    {row['City']}, {row['State']} {row['Zip Code']}\n",
        "    \"\"\"\n",
        "    folium.Marker(\n",
        "        location=[row['Latitude'], row['Longitude']],\n",
        "        popup=popup_text, icon=folium.Icon(icon=\"cloud\",color=\"green\")\n",
        "    ).add_to(m_filtered)\n",
        "\n",
        "# Save the filtered map as an HTML file\n",
        "m_filtered.save(\"filtered_colorado_research_n_development_cultivations_map_denver.html\")\n",
        "\n",
        "# Display the filtered map in the notebook\n",
        "m_filtered"
      ]
    },
    {
      "cell_type": "markdown",
      "id": "976c560f-7104-42e7-b889-5733c637a975",
      "metadata": {},
      "source": [
        "## Step 5: Export Cleaned Data to CSV "
      ]
    },
    {
      "cell_type": "code",
      "execution_count": 8,
      "id": "c6c9f7b6-d426-405a-b78a-f2565107779a",
      "metadata": {
        "trusted": true
      },
      "outputs": [
        {
          "name": "stdout",
          "output_type": "stream",
          "text": [
            "Data exported to colorado_research_n_development_cultivations_full_list_v2.csv\n"
          ]
        }
      ],
      "source": [
        "# Export the cleaned DataFrame to a CSV file\n",
        "df.to_csv(\"cleaned_colorado_research_n_development_cultivations_full_list_v2.csv\", index=False)\n",
        "\n",
        "# Confirm the export\n",
        "print(\"Data exported to colorado_research_n_development_cultivations_full_list_v2.csv\")"
      ]
    }
  ],
  "metadata": {
    "kernelspec": {
      "display_name": "Python 3",
      "language": "python",
      "name": "python3"
    },
    "language_info": {
      "codemirror_mode": {
        "name": "ipython",
        "version": 3
      },
      "file_extension": ".py",
      "mimetype": "text/x-python",
      "name": "python",
      "nbconvert_exporter": "python",
      "pygments_lexer": "ipython3",
      "version": "3.11.2"
    }
  },
  "nbformat": 4,
  "nbformat_minor": 5
}
